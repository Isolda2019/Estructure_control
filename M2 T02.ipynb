{
 "cells": [
  {
   "cell_type": "markdown",
   "id": "4f9a597f",
   "metadata": {},
   "source": [
    "# Exercici 1\n",
    "## L'exercici consisteix a crear una funció que et classifiqui una variable numèrica en funció de l’escala Suspès/Aprovat/Notable/Excel·lent.\n",
    "\n",
    "### Recorda que Suspès < 5, Aprovat > 5 i < 7, Notable > 7 i < 9 i Excel·lent > 9."
   ]
  },
  {
   "cell_type": "code",
   "execution_count": 3,
   "id": "3bff5a34",
   "metadata": {},
   "outputs": [
    {
     "name": "stdout",
     "output_type": "stream",
     "text": [
      "0 suspès\n"
     ]
    }
   ],
   "source": [
    "\n",
    "\n",
    "def Qualificació(x):\n",
    "    if x < 5:\n",
    "        print(x, \"suspès\")\n",
    "    elif  x < 7:\n",
    "        print(x, \"aprovat\")\n",
    "    elif  x <9:\n",
    "        print(x, \"Notable\")\n",
    "    else:\n",
    "        print(x, \"excel.lent\")\n",
    "\n",
    "Qualificació(0)"
   ]
  },
  {
   "cell_type": "markdown",
   "id": "4f3ea60c",
   "metadata": {},
   "source": [
    "# Exercici 2\n",
    "## Utilitzant el següent tutorial crea una funció que et pregunti dos números. T’ha de mostrar un missatge dient si el primer és més gran, el segon és més gran o són iguals."
   ]
  },
  {
   "cell_type": "code",
   "execution_count": 4,
   "id": "188f0325",
   "metadata": {},
   "outputs": [],
   "source": [
    "def Comparació(x, y):\n",
    "    if x > y:\n",
    "        print(\"El teu primer número és més gran que el segon.\")\n",
    "    elif x < y:\n",
    "        print(\"El teu segon número és més gran que el primer.\")\n",
    "    else:\n",
    "        print(\"Els teus dos números són iguals.\")"
   ]
  },
  {
   "cell_type": "code",
   "execution_count": 7,
   "id": "4d115bd7",
   "metadata": {},
   "outputs": [
    {
     "name": "stdout",
     "output_type": "stream",
     "text": [
      "Introdueix el teu primer número: 5\n",
      "Introdueix el teu segon número: 8\n",
      "El teu segon número és més gran que el primer.\n"
     ]
    }
   ],
   "source": [
    "n1 = int(input(\"Introdueix el teu primer número: \"))\n",
    "\n",
    "n2 = int(input(\"Introdueix el teu segon número: \"))\n",
    "\n",
    "Comparació(n1, n2)"
   ]
  },
  {
   "cell_type": "markdown",
   "id": "76fda5ef",
   "metadata": {},
   "source": [
    "# Exercici 3\n",
    "## Crea una funció que et pregunti el teu nom, i et demani un número. Si el número és 0, hauria de mostrar un missatge d’error. En cas contrari, hauria de mostrar el nom repetit tants cops com indiqui el número. Per exemple, “Joan Joan Joan”."
   ]
  },
  {
   "cell_type": "code",
   "execution_count": 12,
   "id": "70f03a55",
   "metadata": {},
   "outputs": [],
   "source": [
    "def mensaje(x, y):\n",
    "    if y==0:\n",
    "        print(\"Error 0 no númeor válido\")\n",
    "        \n",
    "    else:\n",
    "        print(y*(x+\" \"))"
   ]
  },
  {
   "cell_type": "code",
   "execution_count": 13,
   "id": "140013b8",
   "metadata": {},
   "outputs": [
    {
     "name": "stdout",
     "output_type": "stream",
     "text": [
      "Introdueix el teu nom: Marc\n",
      "Introdueix el teu número: 4\n",
      "Marc Marc Marc Marc \n"
     ]
    }
   ],
   "source": [
    "nom = input(\"Introdueix el teu nom: \")\n",
    "\n",
    "número = int(input(\"Introdueix el teu número: \"))\n",
    "\n",
    "mensaje(nom, número)"
   ]
  },
  {
   "cell_type": "markdown",
   "id": "84306aff",
   "metadata": {},
   "source": [
    "# Exercici 4\n",
    "## Crea una funció que donada una llista qualsevol, et digui si és simètrica o no. Si ho és, que et digui quants elements té."
   ]
  },
  {
   "cell_type": "code",
   "execution_count": 24,
   "id": "b7ae911a",
   "metadata": {},
   "outputs": [],
   "source": [
    "def listasimètrica (x):\n",
    "    if x==list(reversed(x)):\n",
    "        print(\"És simètrica i té\", len(x), \"elements\")\n",
    "    else:\n",
    "        print(\"És asimètrica\")"
   ]
  },
  {
   "cell_type": "code",
   "execution_count": 25,
   "id": "dbae922d",
   "metadata": {},
   "outputs": [
    {
     "name": "stdout",
     "output_type": "stream",
     "text": [
      "És simètrica i té 5 elements\n"
     ]
    }
   ],
   "source": [
    "listasimètrica([4, 6, 8 , 6 , 4])"
   ]
  },
  {
   "cell_type": "code",
   "execution_count": 16,
   "id": "78493d97",
   "metadata": {},
   "outputs": [
    {
     "data": {
      "text/plain": [
       "[40, 9, 8, 6, 4]"
      ]
     },
     "execution_count": 16,
     "metadata": {},
     "output_type": "execute_result"
    }
   ],
   "source": [
    "list(reversed([4, 6, 8 , 9 , 40]))"
   ]
  },
  {
   "cell_type": "markdown",
   "id": "8b885584",
   "metadata": {},
   "source": [
    "# Exercici 5\n",
    "## Crea una funció que donada una llista, et digui quants números coincideixen amb la seva posició. Per exemple [3,4,2,0,2,3,6] el 2 i el 6 coincideixen."
   ]
  },
  {
   "cell_type": "code",
   "execution_count": null,
   "id": "3319dbed",
   "metadata": {},
   "outputs": [],
   "source": []
  },
  {
   "cell_type": "code",
   "execution_count": 1,
   "id": "c7e50287",
   "metadata": {},
   "outputs": [],
   "source": [
    "# def números(x):\n",
    "    \n",
    "\n",
    "\n",
    "números = [3,4,2,0,2,3,6]\n",
    "\n"
   ]
  },
  {
   "cell_type": "code",
   "execution_count": 5,
   "id": "1803684a",
   "metadata": {},
   "outputs": [
    {
     "data": {
      "text/plain": [
       "2"
      ]
     },
     "execution_count": 5,
     "metadata": {},
     "output_type": "execute_result"
    }
   ],
   "source": [
    "números.index(2,2)"
   ]
  },
  {
   "cell_type": "code",
   "execution_count": 8,
   "id": "36f32f14",
   "metadata": {},
   "outputs": [
    {
     "name": "stdout",
     "output_type": "stream",
     "text": [
      "[(0, 3), (1, 4), (2, 2), (3, 0), (4, 2), (5, 3), (6, 6)]\n"
     ]
    }
   ],
   "source": [
    "print(list(enumerate(números)))"
   ]
  },
  {
   "cell_type": "code",
   "execution_count": 11,
   "id": "9da23c1f",
   "metadata": {},
   "outputs": [
    {
     "name": "stdout",
     "output_type": "stream",
     "text": [
      "2\n",
      "6\n",
      "2\n"
     ]
    }
   ],
   "source": [
    "contador=0\n",
    "for x, y in enumerate(números):\n",
    "    if x==y:\n",
    "        \n",
    "        contador+=1\n",
    "\n",
    "        print(y)\n",
    "print(contador)"
   ]
  },
  {
   "cell_type": "code",
   "execution_count": null,
   "id": "fa206692",
   "metadata": {},
   "outputs": [],
   "source": []
  }
 ],
 "metadata": {
  "kernelspec": {
   "display_name": "Python 3 (ipykernel)",
   "language": "python",
   "name": "python3"
  },
  "language_info": {
   "codemirror_mode": {
    "name": "ipython",
    "version": 3
   },
   "file_extension": ".py",
   "mimetype": "text/x-python",
   "name": "python",
   "nbconvert_exporter": "python",
   "pygments_lexer": "ipython3",
   "version": "3.11.4"
  }
 },
 "nbformat": 4,
 "nbformat_minor": 5
}
